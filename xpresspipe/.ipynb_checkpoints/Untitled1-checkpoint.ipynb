{
 "cells": [
  {
   "cell_type": "code",
   "execution_count": 20,
   "metadata": {},
   "outputs": [],
   "source": [
    "library(data.table)\n",
    "source(paste(getwd(), \"/ribowaltz_annotation.R\", sep=\"\"))\n",
    "source(paste(getwd(), \"/ribowaltz_psites.R\", sep=\"\"))\n",
    "source(paste(getwd(), \"/ribowaltz_combine_bam.R\", sep=\"\"))"
   ]
  },
  {
   "cell_type": "code",
   "execution_count": 4,
   "metadata": {},
   "outputs": [
    {
     "name": "stderr",
     "output_type": "stream",
     "text": [
      "Import genomic features from the file as a GRanges object ... \n",
      "OK\n",
      "\n",
      "Prepare the 'metadata' data frame ... \n",
      "OK\n",
      "\n",
      "Make the TxDb object ... \n",
      "Warning message in .get_cds_IDX(type, phase):\n",
      "“The \"phase\" metadata column contains non-NA values for features of type\n",
      "  stop_codon. This information was ignored.”\n",
      "OK\n",
      "\n"
     ]
    }
   ],
   "source": [
    "GTF <- \"/Users/jordan/Desktop/Homo_sapiens.GRCh38.99.gtf\"\n",
    "annotation_dt <- create_annotation(gtfpath=GTF)"
   ]
  },
  {
   "cell_type": "code",
   "execution_count": 5,
   "metadata": {},
   "outputs": [
    {
     "data": {
      "text/html": [
       "<table>\n",
       "<caption>A data.table: 6 × 5</caption>\n",
       "<thead>\n",
       "\t<tr><th scope=col>transcript</th><th scope=col>l_tr</th><th scope=col>l_utr5</th><th scope=col>l_cds</th><th scope=col>l_utr3</th></tr>\n",
       "\t<tr><th scope=col>&lt;chr&gt;</th><th scope=col>&lt;int&gt;</th><th scope=col>&lt;dbl&gt;</th><th scope=col>&lt;dbl&gt;</th><th scope=col>&lt;dbl&gt;</th></tr>\n",
       "</thead>\n",
       "<tbody>\n",
       "\t<tr><td>ENST00000000233</td><td>1032</td><td> 88</td><td> 543</td><td> 401</td></tr>\n",
       "\t<tr><td>ENST00000000412</td><td>2450</td><td>159</td><td> 834</td><td>1457</td></tr>\n",
       "\t<tr><td>ENST00000000442</td><td>2274</td><td>225</td><td>1272</td><td> 777</td></tr>\n",
       "\t<tr><td>ENST00000001008</td><td>3715</td><td>170</td><td>1380</td><td>2165</td></tr>\n",
       "\t<tr><td>ENST00000001146</td><td>4732</td><td>204</td><td>1539</td><td>2989</td></tr>\n",
       "\t<tr><td>ENST00000002125</td><td>2184</td><td> 48</td><td>1326</td><td> 810</td></tr>\n",
       "</tbody>\n",
       "</table>\n"
      ],
      "text/latex": [
       "A data.table: 6 × 5\n",
       "\\begin{tabular}{lllll}\n",
       " transcript & l\\_tr & l\\_utr5 & l\\_cds & l\\_utr3\\\\\n",
       " <chr> & <int> & <dbl> & <dbl> & <dbl>\\\\\n",
       "\\hline\n",
       "\t ENST00000000233 & 1032 &  88 &  543 &  401\\\\\n",
       "\t ENST00000000412 & 2450 & 159 &  834 & 1457\\\\\n",
       "\t ENST00000000442 & 2274 & 225 & 1272 &  777\\\\\n",
       "\t ENST00000001008 & 3715 & 170 & 1380 & 2165\\\\\n",
       "\t ENST00000001146 & 4732 & 204 & 1539 & 2989\\\\\n",
       "\t ENST00000002125 & 2184 &  48 & 1326 &  810\\\\\n",
       "\\end{tabular}\n"
      ],
      "text/markdown": [
       "\n",
       "A data.table: 6 × 5\n",
       "\n",
       "| transcript &lt;chr&gt; | l_tr &lt;int&gt; | l_utr5 &lt;dbl&gt; | l_cds &lt;dbl&gt; | l_utr3 &lt;dbl&gt; |\n",
       "|---|---|---|---|---|\n",
       "| ENST00000000233 | 1032 |  88 |  543 |  401 |\n",
       "| ENST00000000412 | 2450 | 159 |  834 | 1457 |\n",
       "| ENST00000000442 | 2274 | 225 | 1272 |  777 |\n",
       "| ENST00000001008 | 3715 | 170 | 1380 | 2165 |\n",
       "| ENST00000001146 | 4732 | 204 | 1539 | 2989 |\n",
       "| ENST00000002125 | 2184 |  48 | 1326 |  810 |\n",
       "\n"
      ],
      "text/plain": [
       "  transcript      l_tr l_utr5 l_cds l_utr3\n",
       "1 ENST00000000233 1032  88     543   401  \n",
       "2 ENST00000000412 2450 159     834  1457  \n",
       "3 ENST00000000442 2274 225    1272   777  \n",
       "4 ENST00000001008 3715 170    1380  2165  \n",
       "5 ENST00000001146 4732 204    1539  2989  \n",
       "6 ENST00000002125 2184  48    1326   810  "
      ]
     },
     "metadata": {},
     "output_type": "display_data"
    }
   ],
   "source": [
    "head(annotation_dt)"
   ]
  },
  {
   "cell_type": "code",
   "execution_count": 6,
   "metadata": {},
   "outputs": [],
   "source": [
    "write.table(\n",
    "  as.data.frame(annotation_dt),\n",
    "  file=\"/Users/jordan/Desktop/annotation.txt\",\n",
    "  sep='\\t',\n",
    "  col.names=NA)"
   ]
  },
  {
   "cell_type": "code",
   "execution_count": 26,
   "metadata": {},
   "outputs": [
    {
     "name": "stdout",
     "output_type": "stream",
     "text": [
      "Reading SRR2075925_ribo_DMSO_rep1_small_Aligned.toTranscriptome.out.bam\n",
      "Input reads: 0.002 M\n",
      "Good! Number of indel below indel_threshold for all reads. No reads removed.\n",
      "0.000 M  (0.292 %) reads removed: reference transcript IDs not found in annotation table.\n",
      "0.000 M  (3.337 %) reads removed: mapping on negative strand.\n",
      "Output reads: 0.002 M\n",
      "\n",
      "Reading SRR2075930_rna_DMSO_rep1_small_Aligned.toTranscriptome.out.bam\n",
      "Input reads: 0.010 M\n",
      "Good! Number of indel below indel_threshold for all reads. No reads removed.\n",
      "0.000 M  (0.341 %) reads removed: reference transcript IDs not found in annotation table.\n",
      "0.010 M  (98.581 %) reads removed: mapping on negative strand.\n",
      "Output reads: 0.000 M\n",
      "\n"
     ]
    }
   ],
   "source": [
    "BAM_LIST <- \"/Users/jordan/scripts/XPRESSyourself/XPRESSpipe/tests/riboseq/riboseq_out/alignments_transcriptome\"\n",
    "reads_list <- bamtolist(bamfolder = BAM_LIST, annotation = annotation_dt)"
   ]
  },
  {
   "cell_type": "code",
   "execution_count": 28,
   "metadata": {},
   "outputs": [
    {
     "name": "stdout",
     "output_type": "stream",
     "text": [
      "processing SRR2075925_ribo_DMSO_rep1_small_Aligned.toTranscriptome.out\n"
     ]
    },
    {
     "name": "stderr",
     "output_type": "stream",
     "text": [
      "Warning message in max(perc):\n",
      "“no non-missing arguments to max; returning -Inf”\n",
      "Warning message in max(perc):\n",
      "“no non-missing arguments to max; returning -Inf”\n"
     ]
    },
    {
     "name": "stdout",
     "output_type": "stream",
     "text": [
      "[1] \"Could not find valid records from SRR2075925_ribo_DMSO_rep1_small_Aligned.toTranscriptome.out\"\n",
      "processing SRR2075930_rna_DMSO_rep1_small_Aligned.toTranscriptome.out\n"
     ]
    },
    {
     "name": "stderr",
     "output_type": "stream",
     "text": [
      "Warning message in min(site_sub$length):\n",
      "“no non-missing arguments to min; returning Inf”\n",
      "Warning message in max(site_sub$length):\n",
      "“no non-missing arguments to max; returning -Inf”\n",
      "Warning message in max(perc):\n",
      "“no non-missing arguments to max; returning -Inf”\n",
      "Warning message in max(perc):\n",
      "“no non-missing arguments to max; returning -Inf”\n"
     ]
    },
    {
     "name": "stdout",
     "output_type": "stream",
     "text": [
      "[1] \"Could not find valid records from SRR2075930_rna_DMSO_rep1_small_Aligned.toTranscriptome.out\"\n"
     ]
    }
   ],
   "source": [
    "p_sites <- psite(reads_list, extremity=\"5end\")"
   ]
  },
  {
   "cell_type": "code",
   "execution_count": 45,
   "metadata": {},
   "outputs": [
    {
     "data": {
      "text/html": [
       "TRUE"
      ],
      "text/latex": [
       "TRUE"
      ],
      "text/markdown": [
       "TRUE"
      ],
      "text/plain": [
       "[1] TRUE"
      ]
     },
     "metadata": {},
     "output_type": "display_data"
    }
   ],
   "source": [
    "typeof(p_sites) == \"NULL\""
   ]
  },
  {
   "cell_type": "code",
   "execution_count": 46,
   "metadata": {},
   "outputs": [],
   "source": [
    "if (typeof(p_sites) != \"NULL\") {\n",
    "    p_info <- psite_info(reads_list, p_sites)\n",
    "    OUTPUT_P_SITES <- \"/Users/jordan/Desktop/\"\n",
    "    for (SAMPLE in as.list(unique(p_sites$sample))) {\n",
    "      SAMPLE_NAME = vapply(strsplit(SAMPLE, \"[.]\"), `[`, 1, FUN.VALUE=character(1)) # Get sample name\n",
    "\n",
    "      OUTPUT_NAME = paste(OUTPUT_P_SITES, SAMPLE_NAME, \"_metrics.txt\", sep=\"\")\n",
    "\n",
    "      write.table(as.data.frame(\n",
    "        p_info[[SAMPLE]][,c(\"transcript\",\"psite\",\"length\")]\n",
    "      ), file=OUTPUT_NAME, sep='\\t', col.names=NA)\n",
    "    }\n",
    "}\n"
   ]
  },
  {
   "cell_type": "code",
   "execution_count": null,
   "metadata": {},
   "outputs": [],
   "source": []
  },
  {
   "cell_type": "code",
   "execution_count": 9,
   "metadata": {},
   "outputs": [
    {
     "name": "stdout",
     "output_type": "stream",
     "text": [
      "[1] \"hello\"\n"
     ]
    }
   ],
   "source": [
    "print(\"hello\")"
   ]
  },
  {
   "cell_type": "code",
   "execution_count": 48,
   "metadata": {},
   "outputs": [
    {
     "ename": "ERROR",
     "evalue": "Error in file_path_as_absolute(): argument \"x\" is missing, with no default\n",
     "output_type": "error",
     "traceback": [
      "Error in file_path_as_absolute(): argument \"x\" is missing, with no default\nTraceback:\n",
      "1. file_path_as_absolute()"
     ]
    }
   ],
   "source": [
    "library(tools)\n",
    "file_path_as_absolute()"
   ]
  },
  {
   "cell_type": "code",
   "execution_count": null,
   "metadata": {},
   "outputs": [],
   "source": []
  }
 ],
 "metadata": {
  "kernelspec": {
   "display_name": "R",
   "language": "R",
   "name": "ir"
  },
  "language_info": {
   "codemirror_mode": "r",
   "file_extension": ".r",
   "mimetype": "text/x-r-source",
   "name": "R",
   "pygments_lexer": "r",
   "version": "3.5.1"
  }
 },
 "nbformat": 4,
 "nbformat_minor": 4
}
